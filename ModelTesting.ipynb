{
 "cells": [
  {
   "cell_type": "markdown",
   "id": "8e1966ec",
   "metadata": {},
   "source": [
    "loading the model"
   ]
  },
  {
   "cell_type": "code",
   "execution_count": 2,
   "id": "da062f0b",
   "metadata": {},
   "outputs": [
    {
     "name": "stdout",
     "output_type": "stream",
     "text": [
      "✅ Model and tokenizer loaded from local directory.\n"
     ]
    }
   ],
   "source": [
    "from transformers import RobertaTokenizer, RobertaForSequenceClassification\n",
    "from sklearn.preprocessing import LabelEncoder\n",
    "import pandas as pd\n",
    "# Encode target labels\n",
    "label_encoder = LabelEncoder()\n",
    "df = pd.read_csv(\"claims_final.csv\", quotechar='\"')\n",
    "df[\"SeverityEncoded\"] = label_encoder.fit_transform(df[\"SeverityLabel\"])\n",
    "\n",
    "\n",
    "# Local directory where model was saved\n",
    "model_save_path = \"roberta_severity_model\"\n",
    "\n",
    "# Load tokenizer and model from local folder\n",
    "tokenizer = RobertaTokenizer.from_pretrained(model_save_path)\n",
    "model = RobertaForSequenceClassification.from_pretrained(model_save_path)\n",
    "\n",
    "print(\"✅ Model and tokenizer loaded from local directory.\")\n"
   ]
  },
  {
   "cell_type": "markdown",
   "id": "a17059db",
   "metadata": {},
   "source": [
    "prediction function"
   ]
  },
  {
   "cell_type": "code",
   "execution_count": 3,
   "id": "c107451e",
   "metadata": {},
   "outputs": [],
   "source": [
    "import torch\n",
    "import numpy as np\n",
    "\n",
    "def predict_severity(text):\n",
    "    # Tokenize the input\n",
    "    inputs = tokenizer(text, return_tensors=\"pt\", truncation=True, padding=True, max_length=128)\n",
    "\n",
    "    with torch.no_grad():\n",
    "        outputs = model(**inputs)\n",
    "        logits = outputs.logits\n",
    "        prediction = torch.argmax(logits, dim=1).item()\n",
    "\n",
    "    # Decode numeric prediction to label\n",
    "    return label_encoder.inverse_transform([prediction])[0]\n"
   ]
  },
  {
   "cell_type": "markdown",
   "id": "8524a97e",
   "metadata": {},
   "source": [
    "testing examples"
   ]
  },
  {
   "cell_type": "code",
   "execution_count": 4,
   "id": "0aecdd6d",
   "metadata": {},
   "outputs": [
    {
     "name": "stdout",
     "output_type": "stream",
     "text": [
      "my eye got stabbed\n",
      "Prediction: High\n",
      "i am a 50 year old man. i had a car accident and fractured my right arm and leg.\n",
      "Prediction: High\n",
      "my friend pulled my hair and ran away.it gave me a headache but i was fine\n",
      "Prediction: Low\n",
      "i am 30 years old. i am a married woman. yesterday i fell off the stairs. the back of my head really hurts \n",
      "Prediction: High\n"
     ]
    }
   ],
   "source": [
    "custom_text1 = \"my eye got stabbed\"\n",
    "print(custom_text1)\n",
    "print(\"Prediction:\", predict_severity(custom_text1))\n",
    "custom_text2 = \"i am a 50 year old man. i had a car accident and fractured my right arm and leg.\"\n",
    "print(custom_text2)\n",
    "print(\"Prediction:\", predict_severity(custom_text2))\n",
    "custom_text3 = \"my friend pulled my hair and ran away.it gave me a headache but i was fine\"\n",
    "print(custom_text3)\n",
    "print(\"Prediction:\", predict_severity(custom_text3))\n",
    "custom_text4 = \"i am 30 years old. i am a married woman. yesterday i fell off the stairs. the back of my head really hurts \"\n",
    "print(custom_text4)\n",
    "print(\"Prediction:\", predict_severity(custom_text4))\n",
    "\n"
   ]
  },
  {
   "cell_type": "code",
   "execution_count": 5,
   "id": "c55d7077",
   "metadata": {},
   "outputs": [
    {
     "name": "stdout",
     "output_type": "stream",
     "text": [
      "my hand got stuck in the factory machinery, i took it out but my few fingers are injured\n",
      "Prediction: Medium\n",
      "my hand got stuck in the factory machinery, i took it out and its fine now\n",
      "Prediction: Low\n",
      "my hand got stuck in the factory machinery,its bluish and swollen\n",
      "Prediction: High\n"
     ]
    }
   ],
   "source": [
    "custom_text5 = \"my hand got stuck in the factory machinery, i took it out but my few fingers are injured\"\n",
    "print(custom_text5)\n",
    "print(\"Prediction:\", predict_severity(custom_text5))\n",
    "custom_text6 = \"my hand got stuck in the factory machinery, i took it out and its fine now\"\n",
    "print(custom_text6)\n",
    "print(\"Prediction:\", predict_severity(custom_text6))\n",
    "custom_text7 = \"my hand got stuck in the factory machinery,its bluish and swollen\"\n",
    "print(custom_text7)\n",
    "print(\"Prediction:\", predict_severity(custom_text7))\n"
   ]
  },
  {
   "cell_type": "code",
   "execution_count": 6,
   "id": "656d37a3",
   "metadata": {},
   "outputs": [
    {
     "name": "stdout",
     "output_type": "stream",
     "text": [
      "I am 18 years old. I slipped and hurt my foot but im fine now\n",
      "Prediction: Low\n",
      "I am 30 years old. I slipped and hurt my foot and it slightly hurts\n",
      "Prediction: Medium\n",
      "I am 58 years old. I slipped and hurt my foot and it really hurts\n",
      "Prediction: High\n"
     ]
    }
   ],
   "source": [
    "custom_text8 = \"I am 18 years old. I slipped and hurt my foot but im fine now\"\n",
    "print(custom_text8)\n",
    "print(\"Prediction:\", predict_severity(custom_text8))\n",
    "custom_text9 = \"I am 30 years old. I slipped and hurt my foot and it slightly hurts\"\n",
    "print(custom_text9)\n",
    "print(\"Prediction:\", predict_severity(custom_text9))\n",
    "custom_text10 = \"I am 58 years old. I slipped and hurt my foot and it really hurts\"\n",
    "print(custom_text10)\n",
    "print(\"Prediction:\", predict_severity(custom_text10))\n"
   ]
  },
  {
   "cell_type": "code",
   "execution_count": 7,
   "id": "3d430101",
   "metadata": {},
   "outputs": [
    {
     "name": "stdout",
     "output_type": "stream",
     "text": [
      "I am a cancer patient and i am having trouble breathing\n",
      "Prediction: High\n",
      "i got a heart attack\n",
      "Prediction: High\n",
      "I am a 29-year-old male working full-time. I usually work about 40 hours every week and I have no dependents. I’m single and currently live alone. The incident occurred on 17/08/2016, and I reported it the next day on Wed. While carrying a small box in the storeroom, I slightly twisted my wrist. It wasn’t too painful at first, just a mild strain, but I reported it to be on the safe side. I continued working for the rest of the day without much trouble. My weekly wage is around 500. I consider this a minor issue,but it did need to be documented. \n",
      "Prediction: Low\n"
     ]
    }
   ],
   "source": [
    "custom_text11 = \"I am a cancer patient and i am having trouble breathing\"\n",
    "print(custom_text11)\n",
    "print(\"Prediction:\", predict_severity(custom_text11))\n",
    "custom_text12 = \"i got a heart attack\"\n",
    "print(custom_text12)\n",
    "print(\"Prediction:\", predict_severity(custom_text12))\n",
    "custom_text13 = \"I am a 29-year-old male working full-time. I usually work about 40 hours every week and I have no dependents. I’m single and currently live alone. The incident occurred on 17/08/2016, and I reported it the next day on Wed. While carrying a small box in the storeroom, I slightly twisted my wrist. It wasn’t too painful at first, just a mild strain, but I reported it to be on the safe side. I continued working for the rest of the day without much trouble. My weekly wage is around 500. I consider this a minor issue,but it did need to be documented. \"\n",
    "print(custom_text13)\n",
    "print(\"Prediction:\", predict_severity(custom_text13))\n"
   ]
  },
  {
   "cell_type": "code",
   "execution_count": null,
   "id": "6850d959",
   "metadata": {},
   "outputs": [],
   "source": []
  }
 ],
 "metadata": {
  "kernelspec": {
   "display_name": "base",
   "language": "python",
   "name": "python3"
  },
  "language_info": {
   "codemirror_mode": {
    "name": "ipython",
    "version": 3
   },
   "file_extension": ".py",
   "mimetype": "text/x-python",
   "name": "python",
   "nbconvert_exporter": "python",
   "pygments_lexer": "ipython3",
   "version": "3.12.4"
  }
 },
 "nbformat": 4,
 "nbformat_minor": 5
}
